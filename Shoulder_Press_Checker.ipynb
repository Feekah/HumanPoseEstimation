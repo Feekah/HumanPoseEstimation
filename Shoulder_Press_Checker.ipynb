{
  "nbformat": 4,
  "nbformat_minor": 0,
  "metadata": {
    "colab": {
      "provenance": []
    },
    "kernelspec": {
      "name": "python3",
      "display_name": "Python 3"
    },
    "language_info": {
      "name": "python"
    }
  },
  "cells": [
    {
      "cell_type": "code",
      "source": [
        "!pip install mediapipe opencv-python"
      ],
      "metadata": {
        "colab": {
          "base_uri": "https://localhost:8080/"
        },
        "id": "NqfB4ssD_F1W",
        "outputId": "39a2212f-48a2-403b-a6af-3fb81643d74a"
      },
      "execution_count": 5,
      "outputs": [
        {
          "output_type": "stream",
          "name": "stdout",
          "text": [
            "Requirement already satisfied: mediapipe in /usr/local/lib/python3.10/dist-packages (0.10.3)\n",
            "Requirement already satisfied: opencv-python in /usr/local/lib/python3.10/dist-packages (4.7.0.72)\n",
            "Requirement already satisfied: absl-py in /usr/local/lib/python3.10/dist-packages (from mediapipe) (1.4.0)\n",
            "Requirement already satisfied: attrs>=19.1.0 in /usr/local/lib/python3.10/dist-packages (from mediapipe) (23.1.0)\n",
            "Requirement already satisfied: flatbuffers>=2.0 in /usr/local/lib/python3.10/dist-packages (from mediapipe) (23.5.26)\n",
            "Requirement already satisfied: matplotlib in /usr/local/lib/python3.10/dist-packages (from mediapipe) (3.7.1)\n",
            "Requirement already satisfied: numpy in /usr/local/lib/python3.10/dist-packages (from mediapipe) (1.22.4)\n",
            "Requirement already satisfied: opencv-contrib-python in /usr/local/lib/python3.10/dist-packages (from mediapipe) (4.7.0.72)\n",
            "Requirement already satisfied: protobuf<4,>=3.11 in /usr/local/lib/python3.10/dist-packages (from mediapipe) (3.20.3)\n",
            "Requirement already satisfied: sounddevice>=0.4.4 in /usr/local/lib/python3.10/dist-packages (from mediapipe) (0.4.6)\n",
            "Requirement already satisfied: CFFI>=1.0 in /usr/local/lib/python3.10/dist-packages (from sounddevice>=0.4.4->mediapipe) (1.15.1)\n",
            "Requirement already satisfied: contourpy>=1.0.1 in /usr/local/lib/python3.10/dist-packages (from matplotlib->mediapipe) (1.1.0)\n",
            "Requirement already satisfied: cycler>=0.10 in /usr/local/lib/python3.10/dist-packages (from matplotlib->mediapipe) (0.11.0)\n",
            "Requirement already satisfied: fonttools>=4.22.0 in /usr/local/lib/python3.10/dist-packages (from matplotlib->mediapipe) (4.41.1)\n",
            "Requirement already satisfied: kiwisolver>=1.0.1 in /usr/local/lib/python3.10/dist-packages (from matplotlib->mediapipe) (1.4.4)\n",
            "Requirement already satisfied: packaging>=20.0 in /usr/local/lib/python3.10/dist-packages (from matplotlib->mediapipe) (23.1)\n",
            "Requirement already satisfied: pillow>=6.2.0 in /usr/local/lib/python3.10/dist-packages (from matplotlib->mediapipe) (9.4.0)\n",
            "Requirement already satisfied: pyparsing>=2.3.1 in /usr/local/lib/python3.10/dist-packages (from matplotlib->mediapipe) (3.1.0)\n",
            "Requirement already satisfied: python-dateutil>=2.7 in /usr/local/lib/python3.10/dist-packages (from matplotlib->mediapipe) (2.8.2)\n",
            "Requirement already satisfied: pycparser in /usr/local/lib/python3.10/dist-packages (from CFFI>=1.0->sounddevice>=0.4.4->mediapipe) (2.21)\n",
            "Requirement already satisfied: six>=1.5 in /usr/local/lib/python3.10/dist-packages (from python-dateutil>=2.7->matplotlib->mediapipe) (1.16.0)\n"
          ]
        }
      ]
    },
    {
      "cell_type": "code",
      "source": [
        "import cv2\n",
        "import mediapipe as mp\n",
        "import numpy as np\n",
        "mp_drawing = mp.solutions.drawing_utils\n",
        "mp_pose = mp.solutions.pose"
      ],
      "metadata": {
        "id": "KzyZ1fM-ELPb"
      },
      "execution_count": 1,
      "outputs": []
    },
    {
      "cell_type": "code",
      "source": [
        "cap = cv2.VideoCapture(0)\n",
        "\n",
        "while True:\n",
        "    try:\n",
        "        ret, frame = cap.read()\n",
        "        cv2.imshow('Mediapipe Feed', frame)\n",
        "\n",
        "        if cv2.waitKey(10) & 0xFF == ord('q'):\n",
        "            break\n",
        "    except Exception as e:\n",
        "        print(f\"Camera error: {str(e)}\")\n",
        "        cap.release()\n",
        "        cap = cv2.VideoCapture(0)\n",
        "\n",
        "cap.release()\n",
        "cv2.destroyAllWindows()"
      ],
      "metadata": {
        "id": "cD8vcdYTEMJ9"
      },
      "execution_count": 2,
      "outputs": []
    },
    {
      "cell_type": "markdown",
      "source": [
        "# Angle Calculator"
      ],
      "metadata": {
        "id": "XZFlBWuk5fgI"
      }
    },
    {
      "cell_type": "code",
      "source": [
        "#define a function to calculate angles between joints\n",
        "def calculate_angle(a,b,c):\n",
        "    a = np.array(a) # First\n",
        "    b = np.array(b) # Mid\n",
        "    c = np.array(c) # End\n",
        "\n",
        "    radians = np.arctan2(c[1]-b[1], c[0]-b[0]) - np.arctan2(a[1]-b[1], a[0]-b[0])\n",
        "    angle = np.abs(radians*180.0/np.pi)\n",
        "\n",
        "    if angle >180.0:\n",
        "        angle = 360-angle\n",
        "\n",
        "    return angle"
      ],
      "metadata": {
        "id": "oQxPCwDc5e46"
      },
      "execution_count": 3,
      "outputs": []
    },
    {
      "cell_type": "code",
      "execution_count": 4,
      "metadata": {
        "colab": {
          "base_uri": "https://localhost:8080/"
        },
        "id": "VPYk_tkiDaQx",
        "outputId": "9d24c282-954f-45d7-cdcb-ba1d66dfd9bc"
      },
      "outputs": [
        {
          "output_type": "stream",
          "name": "stderr",
          "text": [
            "INFO: Created TensorFlow Lite XNNPACK delegate for CPU.\n"
          ]
        }
      ],
      "source": [
        "cap = cv2.VideoCapture(0)\n",
        "\n",
        "# Curl counter variables\n",
        "left_counter_SP = 0\n",
        "left_stage_SP = None\n",
        "\n",
        "right_counter_SP = 0\n",
        "right_stage_SP = None\n",
        "\n",
        "## Setup mediapipe instance\n",
        "with mp_pose.Pose(min_detection_confidence=0.5, min_tracking_confidence=0.5) as pose:\n",
        "    while cap.isOpened():\n",
        "        ret, frame = cap.read()\n",
        "\n",
        "        # Recolor image to RGB\n",
        "        image = cv2.cvtColor(frame, cv2.COLOR_BGR2RGB)\n",
        "        image.flags.writeable = False\n",
        "\n",
        "        # Make detection\n",
        "        results = pose.process(image)\n",
        "\n",
        "        # Recolor back to BGR\n",
        "        image.flags.writeable = True\n",
        "        image = cv2.cvtColor(image, cv2.COLOR_RGB2BGR)\n",
        "\n",
        "        # Extract landmarks\n",
        "        try:\n",
        "            landmarks = results.pose_landmarks.landmark\n",
        "\n",
        "            # Get coordinates for left hand\n",
        "            left_shoulder = [landmarks[mp_pose.PoseLandmark.LEFT_SHOULDER.value].x,landmarks[mp_pose.PoseLandmark.LEFT_SHOULDER.value].y]\n",
        "            left_elbow = [landmarks[mp_pose.PoseLandmark.LEFT_ELBOW.value].x,landmarks[mp_pose.PoseLandmark.LEFT_ELBOW.value].y]\n",
        "            left_wrist = [landmarks[mp_pose.PoseLandmark.LEFT_WRIST.value].x,landmarks[mp_pose.PoseLandmark.LEFT_WRIST.value].y]\n",
        "            left_hip = [landmarks[mp_pose.PoseLandmark.LEFT_HIP.value].x,landmarks[mp_pose.PoseLandmark.LEFT_HIP.value].y]\n",
        "\n",
        "            # Get coordinates for right hand\n",
        "            right_shoulder = [landmarks[mp_pose.PoseLandmark.RIGHT_SHOULDER.value].x,landmarks[mp_pose.PoseLandmark.RIGHT_SHOULDER.value].y]\n",
        "            right_elbow = [landmarks[mp_pose.PoseLandmark.RIGHT_ELBOW.value].x,landmarks[mp_pose.PoseLandmark.RIGHT_ELBOW.value].y]\n",
        "            right_wrist = [landmarks[mp_pose.PoseLandmark.RIGHT_WRIST.value].x,landmarks[mp_pose.PoseLandmark.RIGHT_WRIST.value].y]\n",
        "            right_hip = [landmarks[mp_pose.PoseLandmark.RIGHT_HIP.value].x,landmarks[mp_pose.PoseLandmark.RIGHT_HIP.value].y]\n",
        "\n",
        "            # Calculate angle for left hand\n",
        "            left_angle_SP = calculate_angle(left_shoulder, left_elbow, left_wrist)\n",
        "            left_shoulder_angle_SP = calculate_angle(left_hip, left_shoulder, left_elbow)\n",
        "\n",
        "            #Calculate angle for right hand\n",
        "            right_angle_SP = calculate_angle(right_shoulder, right_elbow, right_wrist)\n",
        "            right_shoulder_angle_SP = calculate_angle(right_hip, right_shoulder, right_elbow)\n",
        "\n",
        "            # Visualize angle\n",
        "            #put angle on left elbow\n",
        "            cv2.putText(image, str(round(left_angle_SP, 2)),\n",
        "                           tuple(np.multiply(left_elbow, [640, 480]).astype(int)),\n",
        "                           cv2.FONT_HERSHEY_SIMPLEX, 0.5, (0, 255, 0), 2, cv2.LINE_AA\n",
        "                                )\n",
        "\n",
        "            if left_shoulder_angle_SP > 60:\n",
        "                cv2.putText(image, str(round(left_shoulder_angle_SP, 2)),\n",
        "                              tuple(np.multiply(left_shoulder, [640, 480]).astype(int)),\n",
        "                               cv2.FONT_HERSHEY_SIMPLEX, 0.5, (0, 255, 0), 2, cv2.LINE_AA\n",
        "                                    )\n",
        "            # put angle on the right elbow\n",
        "            cv2.putText(image, str(round(right_angle_SP,2)),\n",
        "                           tuple(np.multiply(right_elbow, [640, 480]).astype(int)),\n",
        "                           cv2.FONT_HERSHEY_SIMPLEX, 0.5, (0, 255, 0), 2, cv2.LINE_AA\n",
        "                                )\n",
        "\n",
        "            if right_shoulder_angle_SP > 60:\n",
        "                cv2.putText(image, str(round(right_shoulder_angle_SP,2)),\n",
        "                               tuple(np.multiply(right_shoulder, [640, 480]).astype(int)),\n",
        "                               cv2.FONT_HERSHEY_SIMPLEX, 0.5, (0, 255, 0), 2, cv2.LINE_AA\n",
        "                                   )\n",
        "\n",
        "            if left_shoulder_angle_SP < 60:\n",
        "                cv2.putText(image, str(\"Increase This Angle\"),\n",
        "                          tuple(np.multiply(left_shoulder, [640, 480]).astype(int)),\n",
        "                           cv2.FONT_HERSHEY_SIMPLEX, 0.5, (0, 0, 255), 2, cv2.LINE_AA\n",
        "                                )\n",
        "\n",
        "            if right_shoulder_angle_SP < 60:\n",
        "                cv2.putText(image, str(\"Increase This Angle\"),\n",
        "                          tuple(np.multiply(right_shoulder, [640, 480]).astype(int)),\n",
        "                           cv2.FONT_HERSHEY_SIMPLEX, 0.5, (0, 0, 255), 2, cv2.LINE_AA\n",
        "                                )\n",
        "\n",
        "            if left_angle_SP > 70 and left_stage_SP == 'down' and left_shoulder_angle_SP > 60 and left_shoulder_angle_SP < 100:\n",
        "                cv2.putText(image, str(\"Decrease This Angle\"),\n",
        "                          tuple(np.multiply(left_elbow, [640, 480]).astype(int)),\n",
        "                           cv2.FONT_HERSHEY_SIMPLEX, 0.5, (0, 0, 255), 2, cv2.LINE_AA\n",
        "                                )\n",
        "\n",
        "            if right_angle_SP > 70 and right_stage_SP == 'down' and right_shoulder_angle_SP > 60 and right_shoulder_angle_SP < 100:\n",
        "                cv2.putText(image, str(\"Decrease This Angle\"),\n",
        "                          tuple(np.multiply(right_elbow, [640, 480]).astype(int)),\n",
        "                           cv2.FONT_HERSHEY_SIMPLEX, 0.5, (0, 0, 255), 2, cv2.LINE_AA\n",
        "                                )\n",
        "\n",
        "\n",
        "            # Curl counter logic for left hand\n",
        "            if left_angle_SP > 165 and left_shoulder_angle_SP > 150:\n",
        "                left_stage_SP = \"up\"\n",
        "            if left_angle_SP < 70 and left_stage_SP =='up' and left_shoulder_angle_SP > 60:\n",
        "                left_stage_SP=\"down\"\n",
        "                left_counter_SP += 1\n",
        "\n",
        "            # Curl counter logic for right hand\n",
        "            if right_angle_SP > 165 and right_shoulder_angle_SP > 150:\n",
        "                right_stage_SP = \"up\"\n",
        "            if right_angle_SP < 70 and right_stage_SP =='up' and right_shoulder_angle_SP > 60:\n",
        "                right_stage_SP=\"down\"\n",
        "                right_counter_SP += 1\n",
        "\n",
        "        except:\n",
        "            pass\n",
        "\n",
        "        # Render curl counter\n",
        "        # Setup status box\n",
        "        cv2.rectangle(image, (0,0), (225,73), (245,117,16), -1)\n",
        "\n",
        "        # Rep data for left\n",
        "        cv2.putText(image, 'LEFT_REPS', (15,12),\n",
        "                    cv2.FONT_HERSHEY_SIMPLEX, 0.2, (0,0,0), 1, cv2.LINE_AA)\n",
        "        cv2.putText(image, str(left_counter_SP),\n",
        "                    (10,60),\n",
        "                    cv2.FONT_HERSHEY_SIMPLEX, .5, (255,255,255), 2, cv2.LINE_AA)\n",
        "\n",
        "        # Stage data for left\n",
        "        cv2.putText(image, 'LEFT_STAGE', (65,12),\n",
        "                    cv2.FONT_HERSHEY_SIMPLEX, .2, (0,0,0), 1, cv2.LINE_AA)\n",
        "        cv2.putText(image, left_stage_SP,\n",
        "                    (60,60),\n",
        "                    cv2.FONT_HERSHEY_SIMPLEX, .5, (255,255,255), 2, cv2.LINE_AA)\n",
        "\n",
        "        # Rep data for right\n",
        "        cv2.putText(image, 'RIGHT_REPS', (115,12),\n",
        "                    cv2.FONT_HERSHEY_SIMPLEX, 0.2, (0,0,0), 1, cv2.LINE_AA)\n",
        "        cv2.putText(image, str(right_counter_SP),\n",
        "                    (115,60),\n",
        "                    cv2.FONT_HERSHEY_SIMPLEX, .5, (255,255,255), 2, cv2.LINE_AA)\n",
        "\n",
        "        # Stage data for right\n",
        "        cv2.putText(image, 'RIGHT_STAGE', (165,12),\n",
        "                    cv2.FONT_HERSHEY_SIMPLEX, .2, (0,0,0), 1, cv2.LINE_AA)\n",
        "        cv2.putText(image, right_stage_SP,\n",
        "                    (165,60),\n",
        "                    cv2.FONT_HERSHEY_SIMPLEX, .5, (255,255,255), 2, cv2.LINE_AA)\n",
        "\n",
        "        # Render detections\n",
        "        mp_drawing.draw_landmarks(image, results.pose_landmarks, mp_pose.POSE_CONNECTIONS,\n",
        "                                mp_drawing.DrawingSpec(color=(245,117,66), thickness=2, circle_radius=2),\n",
        "                                mp_drawing.DrawingSpec(color=(245,66,230), thickness=2, circle_radius=2)\n",
        "                                )\n",
        "\n",
        "        cv2.imshow('Shoulder Press Checker', image)\n",
        "\n",
        "        if cv2.waitKey(10) & 0xFF == ord('q'):\n",
        "          break\n",
        "\n",
        "    cap.release()\n",
        "    cv2.destroyAllWindows()\n",
        ""
      ]
    }
  ]
}